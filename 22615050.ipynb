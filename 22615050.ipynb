{
 "cells": [
  {
   "cell_type": "code",
   "execution_count": 4,
   "id": "ae12ab8f",
   "metadata": {},
   "outputs": [
    {
     "name": "stdout",
     "output_type": "stream",
     "text": [
      "12\n"
     ]
    }
   ],
   "source": [
    "def euclid(a, b):\n",
    "    if b == 0:\n",
    "        return a\n",
    "    else:\n",
    "        return euclid(b, a % b)\n",
    "print(euclid(12,24))"
   ]
  },
  {
   "cell_type": "code",
   "execution_count": 6,
   "id": "725f7a20",
   "metadata": {},
   "outputs": [
    {
     "name": "stdout",
     "output_type": "stream",
     "text": [
      "24\n"
     ]
    }
   ],
   "source": [
    "def factorial(f):\n",
    "    if f == 1:\n",
    "        return 1\n",
    "    else:\n",
    "        return factorial(f - 1) * f\n",
    "print(factorial(4))"
   ]
  },
  {
   "cell_type": "code",
   "execution_count": 7,
   "id": "2e1339af",
   "metadata": {},
   "outputs": [
    {
     "name": "stdout",
     "output_type": "stream",
     "text": [
      "24\n"
     ]
    }
   ],
   "source": [
    "def factorial(f):\n",
    "    fact = 1\n",
    "    for i in range(2, f + 1):\n",
    "        fact *= i\n",
    "    return fact\n",
    "print(factorial(4))"
   ]
  },
  {
   "cell_type": "code",
   "execution_count": 24,
   "id": "e526dbea",
   "metadata": {},
   "outputs": [
    {
     "name": "stdout",
     "output_type": "stream",
     "text": [
      "결과값: 3628800\n",
      "시간: 0 ns\n"
     ]
    }
   ],
   "source": [
    "import time\n",
    "\n",
    "def factorial(f):\n",
    "    if f == 1:\n",
    "        return 1\n",
    "    else:\n",
    "        return factorial(f - 1) * f\n",
    "\n",
    "\n",
    "start_time_ns = time.time_ns()\n",
    "\n",
    "result = factorial(10)\n",
    "\n",
    "end_time_ns = time.time_ns()\n",
    "\n",
    "elapsed_time_ns = end_time_ns - start_time_ns \n",
    "\n",
    "\n",
    "print(f\"결과값: {result}\")\n",
    "print(f\"시간: {elapsed_time_ns} ns\")"
   ]
  },
  {
   "cell_type": "code",
   "execution_count": 25,
   "id": "76beb9c7",
   "metadata": {},
   "outputs": [
    {
     "name": "stdout",
     "output_type": "stream",
     "text": [
      "반복문: [0, 1, 1, 2, 3, 5, 8, 13, 21, 34, 55, 89, 144, 233, 377, 610, 987, 1597, 2584, 4181, 6765, 10946, 17711, 28657, 46368, 75025, 121393, 196418, 317811, 514229]\n",
      "실행 시간: 0.0초\n"
     ]
    }
   ],
   "source": [
    "import time\n",
    "\n",
    "def fibonacci_iterative(n):\n",
    "    if n <= 0:\n",
    "        return []\n",
    "    elif n == 1:\n",
    "        return [0]\n",
    "    elif n == 2:\n",
    "        return [0, 1]\n",
    "    \n",
    "    fib_sequence = [0, 1]\n",
    "    for i in range(2, n):\n",
    "        next_value = fib_sequence[-1] + fib_sequence[-2]\n",
    "        fib_sequence.append(next_value)\n",
    "    \n",
    "    return fib_sequence\n",
    "\n",
    "start_time = time.time()\n",
    "fib_sequence_iterative = fibonacci_iterative(30) \n",
    "end_time = time.time()\n",
    "\n",
    "print(f\"반복문: {fib_sequence_iterative}\")\n",
    "print(f\"실행 시간: {end_time - start_time}초\")"
   ]
  },
  {
   "cell_type": "code",
   "execution_count": 26,
   "id": "1c2a862c",
   "metadata": {},
   "outputs": [
    {
     "name": "stdout",
     "output_type": "stream",
     "text": [
      "재귀적 함수: [0, 1, 1, 2, 3, 5, 8, 13, 21, 34, 55, 89, 144, 233, 377, 610, 987, 1597, 2584, 4181, 6765, 10946, 17711, 28657, 46368, 75025, 121393, 196418, 317811, 514229]\n",
      "실행 시간: 0.0초\n"
     ]
    }
   ],
   "source": [
    "import time\n",
    "\n",
    "def fibonacci_memoized(n, memo={}):\n",
    "    if n in memo:\n",
    "        return memo[n]\n",
    "    if n <= 0:\n",
    "        return 0\n",
    "    elif n == 1:\n",
    "        return 1\n",
    "    memo[n] = fibonacci_memoized(n-1, memo) + fibonacci_memoized(n-2, memo)\n",
    "    return memo[n]\n",
    "\n",
    "\n",
    "start_time = time.time()\n",
    "fib_sequence_memoized = [fibonacci_memoized(i) for i in range(30)]\n",
    "end_time = time.time()\n",
    "\n",
    "print(f\"재귀적 함수: {fib_sequence_memoized}\")\n",
    "print(f\"실행 시간: {end_time - start_time}초\")"
   ]
  },
  {
   "cell_type": "code",
   "execution_count": 27,
   "id": "19fdb5bf",
   "metadata": {},
   "outputs": [
    {
     "name": "stdout",
     "output_type": "stream",
     "text": [
      "Move: A -> B\n",
      "Move: A -> C\n",
      "Move: B -> C\n",
      "Move: A -> B\n",
      "Move: C -> A\n",
      "Move: C -> B\n",
      "Move: A -> B\n",
      "Move: A -> C\n",
      "Move: B -> C\n",
      "Move: B -> A\n",
      "Move: C -> A\n",
      "Move: B -> C\n",
      "Move: A -> B\n",
      "Move: A -> C\n",
      "Move: B -> C\n"
     ]
    }
   ],
   "source": [
    "def hanoi(n, from_peg, to_peg, by_peg):\n",
    "    if n == 1:\n",
    "        print(f\"Move: {from_peg} -> {to_peg}\")\n",
    "    else:\n",
    "        hanoi(n - 1, from_peg, by_peg, to_peg)\n",
    "        print(f\"Move: {from_peg} -> {to_peg}\")\n",
    "        hanoi(n - 1, by_peg, to_peg, from_peg)\n",
    "\n",
    "\n",
    "hanoi(4, 'A', 'C', 'B')"
   ]
  },
  {
   "cell_type": "code",
   "execution_count": 28,
   "id": "1a91e8ae",
   "metadata": {},
   "outputs": [
    {
     "name": "stdout",
     "output_type": "stream",
     "text": [
      "결과: [11, 12, 22, 25, 34, 64, 90]\n"
     ]
    }
   ],
   "source": [
    "def bubble_sort(arr):\n",
    "    n = len(arr)\n",
    "    for i in range(n):\n",
    "        for j in range(0, n-i-1):\n",
    "            if arr[j] > arr[j+1]:\n",
    "                \n",
    "                arr[j], arr[j+1] = arr[j+1], arr[j]\n",
    "\n",
    "\n",
    "arr = [64, 34, 25, 12, 22, 11, 90]\n",
    "bubble_sort(arr)\n",
    "print(\"결과:\", arr)"
   ]
  },
  {
   "cell_type": "code",
   "execution_count": 30,
   "id": "fd3211d5",
   "metadata": {},
   "outputs": [
    {
     "name": "stdout",
     "output_type": "stream",
     "text": [
      "결과: [11, 12, 22, 25, 34, 64, 90]\n"
     ]
    }
   ],
   "source": [
    "def quick_sort(arr):\n",
    "    if len(arr) <= 1:\n",
    "        return arr\n",
    "    pivot = arr[len(arr) // 2]\n",
    "    left = [x for x in arr if x < pivot]\n",
    "    middle = [x for x in arr if x == pivot]\n",
    "    right = [x for x in arr if x > pivot]\n",
    "    return quick_sort(left) + middle + quick_sort(right)\n",
    "\n",
    "\n",
    "arr = [64, 34, 25, 12, 22, 11, 90]\n",
    "sorted_arr = quick_sort(arr)\n",
    "print(\"결과:\", sorted_arr)"
   ]
  }
 ],
 "metadata": {
  "kernelspec": {
   "display_name": "Python 3 (ipykernel)",
   "language": "python",
   "name": "python3"
  },
  "language_info": {
   "codemirror_mode": {
    "name": "ipython",
    "version": 3
   },
   "file_extension": ".py",
   "mimetype": "text/x-python",
   "name": "python",
   "nbconvert_exporter": "python",
   "pygments_lexer": "ipython3",
   "version": "3.11.5"
  }
 },
 "nbformat": 4,
 "nbformat_minor": 5
}
